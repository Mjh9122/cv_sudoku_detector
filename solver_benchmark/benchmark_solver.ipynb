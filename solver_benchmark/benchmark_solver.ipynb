{
 "cells": [
  {
   "cell_type": "code",
   "execution_count": 11,
   "metadata": {},
   "outputs": [],
   "source": [
    "import numpy as np\n",
    "import csv\n",
    "from tqdm import tqdm\n",
    "import matplotlib.pyplot as plt\n",
    "from solver import solve_sudoku"
   ]
  },
  {
   "cell_type": "code",
   "execution_count": 12,
   "metadata": {},
   "outputs": [],
   "source": [
    "def read_in_board(puzzle):\n",
    "    board = np.zeros((9, 9))\n",
    "    for row in range(9):\n",
    "        for col in range(9):\n",
    "            board[row, col] = puzzle[row * 9 + col]\n",
    "    return board"
   ]
  },
  {
   "cell_type": "code",
   "execution_count": 13,
   "metadata": {},
   "outputs": [
    {
     "name": "stderr",
     "output_type": "stream",
     "text": [
      "  0%|          | 0/10000 [00:00<?, ?it/s]"
     ]
    },
    {
     "name": "stderr",
     "output_type": "stream",
     "text": [
      "100%|██████████| 10000/10000 [00:00<00:00, 36715.33it/s]\n"
     ]
    }
   ],
   "source": [
    "boards = []\n",
    "solutions = []\n",
    "\n",
    "with open('./sudoku.csv', newline='') as f:\n",
    "    reader = csv.reader(f)\n",
    "    row1 = next(reader)\n",
    "    for puzzle_num in tqdm(range(10_000)):  \n",
    "        row = next(reader)\n",
    "        puzzle = row[0]\n",
    "        solution = row[1]\n",
    "\n",
    "        board = read_in_board(puzzle)\n",
    "        solution = read_in_board(solution)\n",
    "\n",
    "        boards.append(board)\n",
    "        solutions.append(solution)"
   ]
  },
  {
   "cell_type": "code",
   "execution_count": 14,
   "metadata": {},
   "outputs": [
    {
     "name": "stderr",
     "output_type": "stream",
     "text": [
      "100%|██████████| 10000/10000 [03:14<00:00, 51.36it/s]\n"
     ]
    }
   ],
   "source": [
    "iterations = []\n",
    "for puzzle_num in tqdm(range(10_000)):\n",
    "    board = boards[puzzle_num]\n",
    "    solution = solutions[puzzle_num]\n",
    "    board, iters = solve_sudoku(board)\n",
    "    if (board == solution).all():\n",
    "        iterations.append(iters)\n",
    "    else:\n",
    "        print(f'Failed to find a solution for puzzle: {puzzle_num}')\n"
   ]
  },
  {
   "cell_type": "code",
   "execution_count": 15,
   "metadata": {},
   "outputs": [
    {
     "data": {
      "text/plain": [
       "42.0"
      ]
     },
     "execution_count": 15,
     "metadata": {},
     "output_type": "execute_result"
    }
   ],
   "source": [
    "np.mean(iters)"
   ]
  }
 ],
 "metadata": {
  "kernelspec": {
   "display_name": "Python 3",
   "language": "python",
   "name": "python3"
  },
  "language_info": {
   "codemirror_mode": {
    "name": "ipython",
    "version": 3
   },
   "file_extension": ".py",
   "mimetype": "text/x-python",
   "name": "python",
   "nbconvert_exporter": "python",
   "pygments_lexer": "ipython3",
   "version": "3.11.1"
  }
 },
 "nbformat": 4,
 "nbformat_minor": 2
}
